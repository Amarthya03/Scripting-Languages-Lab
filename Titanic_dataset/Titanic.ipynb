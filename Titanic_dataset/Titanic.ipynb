{
 "cells": [
  {
   "cell_type": "code",
   "execution_count": 37,
   "metadata": {
    "scrolled": true
   },
   "outputs": [
    {
     "name": "stdout",
     "output_type": "stream",
     "text": [
      "   Survived  Pclass     Sex   Age  SibSp     Fare Cabin\n",
      "0      Died  Luxury    male  22.0      1   7.2500   XXX\n",
      "1  Survived   First  female  38.0      1  71.2833   C85\n",
      "2  Survived  Luxury  female  26.0      0   7.9250   XXX\n",
      "3  Survived   First  female  35.0      1  53.1000  C123\n",
      "4      Died  Luxury    male  35.0      0   8.0500   XXX\n"
     ]
    }
   ],
   "source": [
    "# a. Load the Titanic dataset into one of the data structures (true or false)\n",
    "# b. Convert the survived column for easier reading\n",
    "#    1. convert the class column to strings for easier reading\n",
    "#    2. Convert the embarked column to strings for easier reading\n",
    "import numpy as np \n",
    "import pandas as pd\n",
    "\n",
    "titanic_df = pd.read_csv('titanictrain.csv')\n",
    "titanic_df ['Survived'] = titanic_df ['Survived'].map({\n",
    "    0: 'Died',\n",
    "    1: 'Survived'\n",
    "});\n",
    "\n",
    "# b.1. \n",
    "titanic_df ['Pclass'] = titanic_df ['Pclass'].map({\n",
    "    1: 'First',\n",
    "    2: 'Business',\n",
    "    3: 'Luxury',\n",
    "})\n",
    "\n",
    "# b.2.\n",
    "titanic_df ['Embarked'] = titanic_df ['Embarked'].map({\n",
    "    'S': 'Sydney',\n",
    "    'Q': 'Queensland',\n",
    "    'C': 'California'\n",
    "})\n",
    "\n",
    "# c.\n",
    "titanic_df ['Embarked'] = titanic_df ['Embarked'].fillna(\"Unknown\")\n",
    "titanic_df ['Cabin'] = titanic_df ['Cabin'].fillna('XXX')\n",
    "titanic_df.drop(['Parch','PassengerId','Name','Ticket','Embarked'], axis = 1, inplace = True)\n",
    "print(titanic_df.head(5))\n"
   ]
  },
  {
   "cell_type": "code",
   "execution_count": null,
   "metadata": {},
   "outputs": [],
   "source": []
  }
 ],
 "metadata": {
  "kernelspec": {
   "display_name": "Python 3",
   "language": "python",
   "name": "python3"
  },
  "language_info": {
   "codemirror_mode": {
    "name": "ipython",
    "version": 3
   },
   "file_extension": ".py",
   "mimetype": "text/x-python",
   "name": "python",
   "nbconvert_exporter": "python",
   "pygments_lexer": "ipython3",
   "version": "3.4.3"
  }
 },
 "nbformat": 4,
 "nbformat_minor": 2
}
