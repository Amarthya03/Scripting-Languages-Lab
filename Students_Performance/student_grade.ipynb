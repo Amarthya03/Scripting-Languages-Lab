import pandas as pd
import numpy as np

#a. Load the 'Student Performance' dataset into one of the data structures
student = pd.read_csv('StudentsPerformance.csv')

#e. Convert the attribute 'race/ethnicity'
student ['race/ethnicity'] = student ['race/ethnicity'].map({
    'group A': 'Asian',
    'group B': 'African',
    'group C': 'Afro-Asian',
    'group D': 'American',
    'group E': 'European'
})

#d. Manipulate data by replacing empty column values in 'parental level of education' with a default value
student ['parental_level_of_education'] = student ['parental_level_of_education'].fillna("Unknown")

#c. Remove unnecessary features from the dataset such as 'lunch' and 'test preparation course'
student.drop(['lunch'], axis = 1, inplace =True)

#b. Display header rows and description of the loaded dataset
print(student.head(5))

#f.
import seaborn as sb
import matplotlib.pyplot as plt
interval = [0,40,50,60,75,100]
categories = ['Fail','Just Pass','Average','First Class','Distinction']

#i. Tally the number of male and female students who took 'test preparation course' and those who did not
ax = sb.countplot(x = 'gender', data = student, hue = 'test_preparation_course', palette = 'Set1').\
    set(xlabel = 'Gender', ylabel = 'Number of Students', Title= 'Students who took Test preparation course v Gender')
plt.show()

#ii.
ax = sb.countplot(x = 'gender', data = student, hue = 'race/ethnicity', palette = 'Set2').\
    set(xlabel = 'Gender', ylabel = 'Number of Students', Title= 'Race/Ethnicity v Gender')
plt.show()

#iii.
student['Marks_cats'] = pd.cut(student.mathscore, interval, labels = categories)
ax = sb.countplot(x = 'Marks_cats', data = student, palette='Set3').\
    set(xlabel = 'Classes', ylabel = 'Number of Students', Title = 'Math Marks')
plt.show()
student['Read_cats'] = pd.cut(student.readingscore, interval, labels = categories)
ax = sb.countplot(x = 'Read_cats', data = student, palette='Set3').\
    set(xlabel = 'Classes', ylabel = 'Number of Students', Title = 'Reading Marks')
plt.show()
student['Write_cats'] = pd.cut(student.writingscore, interval, labels = categories)
ax = sb.countplot(x = 'Write_cats', data = student, palette='Set3').\
    set(xlabel = 'Classes', ylabel = 'Number of Students', Title = 'Writing Marks')
plt.show()

#g.
df = student.drop(['gender','race/ethnicity','parental_level_of_education',\
              'test_preparation_course','Marks_cats','Read_cats','Write_cats'], axis = 1, inplace = False)

student['grades'] = pd.cut(df.mean(axis = 1), interval, labels = categories)

ax = sb.countplot(x = 'grades', data = student, palette='Set3')\
.set(xlabel = 'Classes', ylabel = 'Number of Students', Title = 'Grades')
plt.xticks(rotation = 45)
plt.show()
